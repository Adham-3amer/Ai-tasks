{
 "cells": [
  {
   "cell_type": "code",
   "execution_count": 43,
   "id": "bfc22a55",
   "metadata": {},
   "outputs": [
    {
     "data": {
      "text/plain": [
       "'Ahmed Hafez 01023456780 ahmed123@gmail.com\\n ali@gmail.com 01243423420  Ali Osama\\nAdham Ali-Adham@gmail.com-01288100400\\nAhmed Hafez-01023456780-ahmed@gmail.com\\n 01243423420-Ali Osama-ali@gmail.com\\n01288100400-Adham@gmail.com-Adham Ali\\n'"
      ]
     },
     "execution_count": 43,
     "metadata": {},
     "output_type": "execute_result"
    }
   ],
   "source": [
    "file=open('data1.2.txt')\n",
    "data=file.read()\n",
    "data"
   ]
  },
  {
   "cell_type": "code",
   "execution_count": 44,
   "id": "d83cf452",
   "metadata": {},
   "outputs": [
    {
     "data": {
      "text/plain": [
       "['01023456780',\n",
       " '01243423420',\n",
       " '01288100400',\n",
       " '01023456780',\n",
       " '01243423420',\n",
       " '01288100400']"
      ]
     },
     "execution_count": 44,
     "metadata": {},
     "output_type": "execute_result"
    }
   ],
   "source": [
    "import re\n",
    "phones=re.findall('[010|012]\\d{10}',data)\n",
    "phones"
   ]
  },
  {
   "cell_type": "code",
   "execution_count": 45,
   "id": "82c87825",
   "metadata": {},
   "outputs": [
    {
     "data": {
      "text/plain": [
       "['ahmed123@gmail.com',\n",
       " 'ali@gmail.com',\n",
       " 'Adham@gmail.com',\n",
       " 'ahmed@gmail.com',\n",
       " 'ali@gmail.com',\n",
       " 'Adham@gmail.com']"
      ]
     },
     "execution_count": 45,
     "metadata": {},
     "output_type": "execute_result"
    }
   ],
   "source": [
    "import re\n",
    "emails=re.findall(r\"([a-zA-Z0-9_.+]+@[a-zA-Z]+\\.[a-zA-Z0-9.]{2,})\",data)\n",
    "emails"
   ]
  },
  {
   "cell_type": "code",
   "execution_count": 46,
   "id": "2a41ab4b",
   "metadata": {},
   "outputs": [
    {
     "data": {
      "text/plain": [
       "['Ahmed Hafez',\n",
       " 'Ali Osama',\n",
       " 'Adham Ali',\n",
       " 'Ahmed Hafez',\n",
       " 'Ali Osama',\n",
       " 'Adham Ali']"
      ]
     },
     "execution_count": 46,
     "metadata": {},
     "output_type": "execute_result"
    }
   ],
   "source": [
    "import re\n",
    "names=re.findall(r'\\b[A-Z][a-z]+ [A-Z][a-z]+\\b',data)\n",
    "names"
   ]
  },
  {
   "cell_type": "code",
   "execution_count": null,
   "id": "04f75c30",
   "metadata": {},
   "outputs": [],
   "source": []
  }
 ],
 "metadata": {
  "kernelspec": {
   "display_name": "Python 3 (ipykernel)",
   "language": "python",
   "name": "python3"
  },
  "language_info": {
   "codemirror_mode": {
    "name": "ipython",
    "version": 3
   },
   "file_extension": ".py",
   "mimetype": "text/x-python",
   "name": "python",
   "nbconvert_exporter": "python",
   "pygments_lexer": "ipython3",
   "version": "3.9.12"
  }
 },
 "nbformat": 4,
 "nbformat_minor": 5
}
