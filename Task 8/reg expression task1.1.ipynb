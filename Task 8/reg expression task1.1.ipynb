{
 "cells": [
  {
   "cell_type": "code",
   "execution_count": 12,
   "id": "f6b443fd",
   "metadata": {},
   "outputs": [
    {
     "data": {
      "text/plain": [
       "'Ahmed Hafez 01023456780 ahmed@gmail.com\\nAli Osama 01243423420 ali@gmail.com\\nAdham Ali 01288100400 Adham@gmail.com\\nAhmed Hafez 01023456780 ahmed@gmail.com\\nAli Osama 01243423420 ali@gmail.com\\nAdham Ali 01288100400 Adham@gmail.com\\n'"
      ]
     },
     "execution_count": 12,
     "metadata": {},
     "output_type": "execute_result"
    }
   ],
   "source": [
    "file=open('data1.1.txt')\n",
    "data=file.read()\n",
    "data"
   ]
  },
  {
   "cell_type": "code",
   "execution_count": 13,
   "id": "c8c8dc18",
   "metadata": {},
   "outputs": [
    {
     "data": {
      "text/plain": [
       "['01023456780',\n",
       " '01243423420',\n",
       " '01288100400',\n",
       " '01023456780',\n",
       " '01243423420',\n",
       " '01288100400']"
      ]
     },
     "execution_count": 13,
     "metadata": {},
     "output_type": "execute_result"
    }
   ],
   "source": [
    "import re\n",
    "phones=re.findall('[010|012]\\d{10}',data)\n",
    "phones"
   ]
  },
  {
   "cell_type": "code",
   "execution_count": 14,
   "id": "9396859b",
   "metadata": {},
   "outputs": [
    {
     "data": {
      "text/plain": [
       "['ahmed@gmail.com',\n",
       " 'ali@gmail.com',\n",
       " 'Adham@gmail.com',\n",
       " 'ahmed@gmail.com',\n",
       " 'ali@gmail.com',\n",
       " 'Adham@gmail.com']"
      ]
     },
     "execution_count": 14,
     "metadata": {},
     "output_type": "execute_result"
    }
   ],
   "source": [
    "import re\n",
    "emails=re.findall(r\"([a-zA-Z0-9_.+-]+@[a-zA-Z]+\\.[a-zA-Z0-9-.]{2,})\",data)\n",
    "emails"
   ]
  },
  {
   "cell_type": "code",
   "execution_count": 15,
   "id": "4f417c0f",
   "metadata": {},
   "outputs": [
    {
     "data": {
      "text/plain": [
       "['Ahmed Hafez',\n",
       " 'Ali Osama',\n",
       " 'Adham Ali',\n",
       " 'Ahmed Hafez',\n",
       " 'Ali Osama',\n",
       " 'Adham Ali']"
      ]
     },
     "execution_count": 15,
     "metadata": {},
     "output_type": "execute_result"
    }
   ],
   "source": [
    "import re\n",
    "names=re.findall(r'\\b[A-Z][a-z]+ [A-Z][a-z]+\\b',data)\n",
    "names"
   ]
  },
  {
   "cell_type": "code",
   "execution_count": null,
   "id": "882f6530",
   "metadata": {},
   "outputs": [],
   "source": []
  },
  {
   "cell_type": "code",
   "execution_count": null,
   "id": "cd6c4bd7",
   "metadata": {},
   "outputs": [],
   "source": []
  }
 ],
 "metadata": {
  "kernelspec": {
   "display_name": "Python 3 (ipykernel)",
   "language": "python",
   "name": "python3"
  },
  "language_info": {
   "codemirror_mode": {
    "name": "ipython",
    "version": 3
   },
   "file_extension": ".py",
   "mimetype": "text/x-python",
   "name": "python",
   "nbconvert_exporter": "python",
   "pygments_lexer": "ipython3",
   "version": "3.9.12"
  }
 },
 "nbformat": 4,
 "nbformat_minor": 5
}
